{
 "cells": [
  {
   "cell_type": "code",
   "execution_count": 21,
   "id": "ffa4fc75",
   "metadata": {
    "pycharm": {
     "name": "#%%\n"
    }
   },
   "outputs": [],
   "source": [
    "import functools\n",
    "import math\n",
    "from scipy import integrate\n",
    "from slae_gauss import *\n",
    "from numpy_print import *\n",
    "\n",
    "N = 3\n",
    "a = 0.6 - 3/N\n",
    "b = 2 - N/13\n",
    "dl = (b - a) / 5\n",
    "mu1 = 15 / (N+3)\n",
    "mu2 = -6 * N / 21\n",
    "VarInt = 4\n",
    "eps = 0.000001\n",
    "\n",
    "def kx(x):\n",
    "    return (4 - 0.1*x) / (x**2 + N/16)\n",
    "\n",
    "def qx(x):\n",
    "    return (x+5) / (x**2 + 0.9 * N)\n",
    "\n",
    "def fx(x):\n",
    "    return (N+x) / 3.5\n",
    "\n",
    "def phi0(x):\n",
    "    return mu1 + (mu2-mu1) * math.sin(math.pi * (x - a) / (2 * (b - a)))\n",
    "\n",
    "def derPhi0(x):\n",
    "    return (mu2-mu1) * math.pi * 2 *(b - a) * math.cos((math.pi * (x - a) / (2 * (b - a))))\n",
    "    \n",
    "def phiK(x, k):\n",
    "    return math.sin(math.pi * k * (x - a) /  (b - a))\n",
    "                    \n",
    "def derPhiK(x, k):\n",
    "    return k * math.pi * (b - a) * math.cos(k * math.pi * (x - a) / (b - a))\n",
    "\n",
    "@functools.cache\n",
    "def thetaA(x, i, j):\n",
    "    return kx(x) * derPhiK(x, i) * derPhiK(x,j) + qx(x) * phiK(x, i) * phiK(x, j) \n",
    "#посчитать с помощью интеграла встроенного\n",
    "@functools.cache\n",
    "def thetaB(x, i, j = 0):\n",
    "    return fx(x) * phiK(x, i) - qx(x) * phi0(x) * phiK(x, i) - kx(x) * derPhiK(x, i) * derPhi0(x)"
   ]
  },
  {
   "cell_type": "code",
   "execution_count": 22,
   "outputs": [],
   "source": [
    "def compulation_Aij(i = 1, j = 1):\n",
    "    a_temp, b_temp = a, b\n",
    "    resultPrev = GaussIntegral(i + 1, j + 1, thetaA, a_temp, b_temp) #основное вычисление\n",
    "    #делим на два отрезка и суммируем\n",
    "    resultLast = GaussIntegral(i + 1, j + 1, thetaA, a_temp, (b_temp - a_temp) / 2) + GaussIntegral(i + 1, j + 1, thetaA, (b_temp - a_temp) / 2, b_temp)\n",
    "\n",
    "    count = 3 #три деления\n",
    "    while abs(resultLast - resultPrev) > eps:\n",
    "        delta = (b_temp - a_temp) / count #шаг по отрезкам\n",
    "        resultPrev = resultLast\n",
    "        resultLast = 0\n",
    "        for l in range(count):\n",
    "            resultLast += GaussIntegral(i + 1, j + 1, thetaA, a_temp + l * delta, a_temp + (l + 1) * delta)\n",
    "        count += 1\n",
    "    return resultLast\n",
    "\n",
    "def compulation_Bj(i = 1):\n",
    "    a_temp, b_temp = a, b\n",
    "    resultPrev = GaussIntegral(i + 1, 0, thetaB, a_temp, b_temp) #основное вычисление\n",
    "    # делим на два отрезка и суммируем\n",
    "    resultLast = GaussIntegral(i + 1, 0, thetaB, a_temp, (b_temp - a_temp) / 2) + GaussIntegral(i + 1, 0, thetaB, (b_temp - a_temp) / 2, b_temp)\n",
    "\n",
    "    count = 3 #три деления\n",
    "    while abs(resultLast - resultPrev) > eps:\n",
    "        delta = (b_temp - a_temp) / count #шаг по отрезкам\n",
    "        resultPrev = resultLast\n",
    "        resultLast = 0\n",
    "        for l in range(count):\n",
    "            resultLast += GaussIntegral(i + 1, 0, thetaB, a_temp + l * delta, a_temp + (l + 1) * delta)\n",
    "        count += 1\n",
    "    return resultLast"
   ],
   "metadata": {
    "collapsed": false,
    "pycharm": {
     "name": "#%%\n"
    }
   }
  },
  {
   "cell_type": "code",
   "execution_count": 23,
   "id": "73d0121c",
   "metadata": {
    "pycharm": {
     "name": "#%%\n"
    }
   },
   "outputs": [],
   "source": [
    "def GaussIntegral(i, j, f, a0, b0):\n",
    "    #поделить на части и для каждой пересчитать\n",
    "    # c = [1, 1]\n",
    "    # t = [-0.57735027, 0.57735027]\n",
    "    c = [0.34785484, 0.65214516, 0.65214516,0.34785484]\n",
    "    t = [-0.86113631, -0.33998104, 0.33998104, 0.86113631]\n",
    "    points = [(b0+a0)/2 + (b0-a0)/2 * t[i] for i in range(VarInt)]\n",
    "    return (b0 - a0) / 2 * (c[0] * f(points[0], i, j) + c[1] * f(points[1], i, j) + c[2] * f(points[2], i, j) + c[3] * f(points[3], i, j))\n",
    "\n",
    "def ChebyshevIntegral(i, j, f, a0, b0):\n",
    "    t = [-0.577350, 0.577350]\n",
    "    points = [(b0 + a0) / 2 + (b0 - a0) / 2 * t[k] for k in range(VarInt)]\n",
    "    return (b0 - a0) / VarInt * sum([f(points[k], i, j) for k in range(VarInt)])"
   ]
  },
  {
   "cell_type": "code",
   "execution_count": 24,
   "id": "527a5aa6",
   "metadata": {
    "pycharm": {
     "name": "#%%\n"
    }
   },
   "outputs": [
    {
     "name": "stdout",
     "output_type": "stream",
     "text": [
      "Метод Гауса\n",
      "A:\n",
      "480.9371     393.3355     -50.5716     -307.9333     \n",
      "393.3355     1560.7935     1179.9113     106.4829     \n",
      "-50.5716     1179.9113     3780.8949     2692.9702     \n",
      "-307.9333     106.4829     2692.9702     7005.1449     \n",
      "\n",
      "------------------------------------------------------------\n",
      "Библиотека Scipy\n",
      "A:\n",
      "480.9371     393.3355     -50.5716     -307.9333     \n",
      "393.3355     1560.7935     1179.9113     106.4829     \n",
      "-50.5716     1179.9113     3780.8949     2692.9702     \n",
      "-307.9333     106.4829     2692.9702     7005.1449     \n",
      "\n",
      "B: 3265.3642     1381.9933     -1240.9889     -2672.1075     \n",
      "\n",
      "C: 7.7651     -1.2524     0.2499     -0.1171     \n",
      "\n",
      "u1(x) = 2.5\n",
      "u2(x) = 5.004548113431411\n",
      "u3(x) = 7.140180200227771\n",
      "u4(x) = 7.646905668134211\n",
      "u5(x) = 5.368981645910706\n",
      "u6(x) = -0.8571428571428557\n"
     ]
    }
   ],
   "source": [
    "A = [[0] * VarInt for _ in range(VarInt)]\n",
    "ATrue = [[0] * VarInt for _ in range(VarInt)]\n",
    "\n",
    "B = [0] * VarInt\n",
    "\n",
    "for i in range(VarInt):\n",
    "    for j in range(VarInt):\n",
    "        A[i][j] = compulation_Aij(i, j)\n",
    "        ATrue[i][j] = integrate.quad(thetaA, a, b, args=(i + 1, j + 1))[0]\n",
    "    B[i] = compulation_Bj(i)\n",
    "\n",
    "print_array(A, \"Метод Гауса\\nA:\")\n",
    "print(\"---\" * 20)\n",
    "print_array(ATrue, \"Библиотека Scipy\\nA:\")\n",
    "\n",
    "print_vector(B, \"B: \")\n",
    "\n",
    "# решаем СЛАУ\n",
    "C = [None] * VarInt\n",
    "A = np.column_stack((A, B)) #расширенная матрица\n",
    "A = decision_sle_direct_move(A, VarInt)\n",
    "\n",
    "B = A[:, VarInt]\n",
    "A = A[:, :VarInt]\n",
    "# обратное ход\n",
    "C = decision_sle_reverse_move(A, C, B, VarInt)\n",
    "print_vector(C, \"C: \")\n",
    "\n",
    "#выводим значения в точках\n",
    "durX = a\n",
    "for i in range(6):\n",
    "    unx = phi0(durX) \n",
    "    for j in range(VarInt):\n",
    "        unx += C[j] * phiK(durX, j+1)\n",
    "    print(f\"u{i+1}(x) = {unx}\")\n",
    "    durX += dl"
   ]
  },
  {
   "cell_type": "code",
   "execution_count": 24,
   "id": "685bda7b",
   "metadata": {
    "pycharm": {
     "name": "#%%\n"
    }
   },
   "outputs": [],
   "source": []
  }
 ],
 "metadata": {
  "kernelspec": {
   "display_name": "Python 3 (ipykernel)",
   "language": "python",
   "name": "python3"
  },
  "language_info": {
   "codemirror_mode": {
    "name": "ipython",
    "version": 3
   },
   "file_extension": ".py",
   "mimetype": "text/x-python",
   "name": "python",
   "nbconvert_exporter": "python",
   "pygments_lexer": "ipython3",
   "version": "3.10.0"
  }
 },
 "nbformat": 4,
 "nbformat_minor": 5
}