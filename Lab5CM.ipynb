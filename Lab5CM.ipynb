{
 "cells": [
  {
   "cell_type": "code",
   "execution_count": 80,
   "id": "ffa4fc75",
   "metadata": {
    "pycharm": {
     "name": "#%%\n"
    }
   },
   "outputs": [],
   "source": [
    "import math\n",
    "import numpy as np\n",
    "import copy\n",
    "from scipy import integrate\n",
    "N = 3\n",
    "a = 0.6 - 3/N\n",
    "b = 2 - N/13\n",
    "dl = (b - a) / 5\n",
    "mu1 = 15 / (N+3)\n",
    "mu2 = -6 * N / 21\n",
    "VarInt = 4\n",
    "n = 4\n",
    "eps = 0.000001\n",
    "\n",
    "def kx(x):\n",
    "    return (4 - 0.1*x) / (x**2 + N/16)\n",
    "\n",
    "def qx(x):\n",
    "    return (x+5) / (x**2 + 0.9 * N)\n",
    "\n",
    "def fx(x):\n",
    "    return (N+x) / 3.5\n",
    "\n",
    "def phi0(x):\n",
    "    return mu1 + (mu2-mu1) * math.sin(math.pi * (x - a) / (2 * (b - a)))\n",
    "\n",
    "def derPhi0(x):\n",
    "    return (mu2-mu1) * math.pi * 2 *(b - a) * math.cos((math.pi * (x - a) / (2 * (b - a))))\n",
    "    \n",
    "def phiK(x, k):\n",
    "    return math.sin(math.pi * k * (x - a) /  (b - a))\n",
    "                    \n",
    "def derPhiK(x, k):\n",
    "    return k * math.pi * (b - a) * math.cos(k * math.pi * (x - a) / (b - a))\n",
    "\n",
    "@functools.cache\n",
    "def thetaA(x, i, j):\n",
    "    return kx(x) * derPhiK(x, i) * derPhiK(x,j) + qx(x) * phiK(x, i) * phiK(x, j) \n",
    "#посчитать с помощью интеграла встроенного\n",
    "@functools.cache\n",
    "def thetaB(x, i, j = 0):\n",
    "    return fx(x) * phiK(x, i) - qx(x) * phi0(x) * phiK(x, i) - kx(x) * derPhiK(x, i) * derPhi0(x)"
   ]
  },
  {
   "cell_type": "code",
   "execution_count": 81,
   "id": "73d0121c",
   "metadata": {
    "pycharm": {
     "name": "#%%\n"
    }
   },
   "outputs": [],
   "source": [
    "def GaussIntegral(i, j, f, a0, b0):\n",
    "    #поделить на части и для каждой пересчитать\n",
    "    c = [0.34785484, 0.65214516, 0.65214516,0.34785484]\n",
    "    t = [-0.86113631, -0.33998104, 0.33998104, 0.86113631]\n",
    "    points = [(b0+a0)/2 + (b0-a0)/2 * t[i] for i in range(VarInt)]\n",
    "    return (b0 - a0) / 2 * (c[0] * f(points[0], i, j) + c[1] * f(points[1], i, j) + c[2] * f(points[2], i, j) + c[3] * f(points[3], i, j))"
   ]
  },
  {
   "cell_type": "code",
   "execution_count": 82,
   "id": "fd20770b",
   "metadata": {
    "pycharm": {
     "name": "#%%\n"
    }
   },
   "outputs": [],
   "source": [
    "#смена строк\n",
    "def swap_row(a, i, j):\n",
    "  temp = copy.copy(A[i])\n",
    "  A[i] = A[j]\n",
    "  A[j] = temp\n",
    "\n",
    "#прямой ход решения\n",
    "def decision_sle_direct_move(A):\n",
    "  for k in range(0, 4, 1):\n",
    "    # вернём индекс максимального элемента по модулю из столбца\n",
    "    index_max = np.argmax(abs(A[k:, k])) + k\n",
    "    #меняем строки местами\n",
    "    swap_row(A, k, index_max)\n",
    "\n",
    "    A[k] /= A[k][k]\n",
    "    for i in range(k + 1, n, 1):\n",
    "      A[i] = A[i] - A[k] * A[i][k]\n",
    "  return A\n",
    "\n",
    "\n",
    "#обратный ход, нахождение X\n",
    "def decision_sle_reverse_move(A, X, F):\n",
    "  X[n - 1] = F[n - 1]\n",
    "  for k in reversed(range(0, n - 1, 1)):\n",
    "    sum_row = 0\n",
    "    for i in reversed(range(0, n, 1)):\n",
    "      if (A[k][i] == 0.0):\n",
    "        continue\n",
    "      if (X[i] is not None):\n",
    "        sum_row += A[k][i] * X[i]\n",
    "    X[k] = F[k] - sum_row\n",
    "  return X\n",
    "\n",
    "def print_array(A):\n",
    "  for i in range(0, len(A), 1):\n",
    "    for j in range(0, len(A[i]), 1):\n",
    "      print(\"%.4f     \" % A[i][j], end=\"\")\n",
    "    print(\"\")\n",
    "    \n",
    "def print_vector(A):\n",
    "    for j in range(0, len(A), 1):\n",
    "      print(\"%.4f     \" % A[j], end=\"\")\n",
    "    print(\"\")"
   ]
  },
  {
   "cell_type": "code",
   "execution_count": 85,
   "id": "527a5aa6",
   "metadata": {
    "pycharm": {
     "name": "#%%\n"
    }
   },
   "outputs": [
    {
     "name": "stdout",
     "output_type": "stream",
     "text": [
      "480.9371     393.3355     -50.5716     -307.9333     \n",
      "393.3355     1560.7935     1179.9113     106.4829     \n",
      "-50.5716     1179.9113     3780.8949     2692.9702     \n",
      "-307.9333     106.4829     2692.9702     7005.1449     \n",
      "----\n",
      "[[(0.0, 0.0), (0.0, 0.0), (0.0, 0.0), (0.0, 0.0)], [(0.0, 0.0), (480.9370520028138, 2.3199172183990813e-11), (393.3354658693835, 5.00366222414006e-10), (-50.571570753096296, 2.0219517934960685e-09)], [(0.0, 0.0), (393.3354658693835, 5.003636819114754e-10), (1560.7934908617565, 2.4506991713746373e-09), (1179.9113060275563, 5.5816090638316496e-09)], [(0.0, 0.0), (-50.57157075309635, 2.021949888769692e-09), (1179.9113060275563, 5.5816090638316496e-09), (3780.8949108194747, 2.7459285166855918e-09)]]\n",
      "----\n",
      "3265.3642     1381.9933     -1240.9889     -2672.1075     \n",
      "\n",
      "Полученное решение:\n",
      "\n",
      "X =  [7.765114298294392 -1.2523677268322204 0.24989956075855818\n",
      " -0.11714053062490005] \n",
      "\n",
      "\n",
      "u1(x) = 2.5\n",
      "u2(x) = 5.004548113431411\n",
      "u3(x) = 7.140180200227771\n",
      "u4(x) = 7.646905668134211\n",
      "u5(x) = 5.368981645910706\n",
      "u6(x) = -0.8571428571428557\n"
     ]
    }
   ],
   "source": [
    "A = [[0] * VarInt for _ in range(VarInt)]\n",
    "ATrue = [[0] * VarInt for _ in range(VarInt)]\n",
    "B = [0] * VarInt\n",
    "for i in range(VarInt):\n",
    "    for j in range(VarInt):\n",
    "        a0, b0 = a,b\n",
    "        resultPrev = GaussIntegral(i+1,j+1,thetaA, a0, b0)\n",
    "        resultLast = GaussIntegral(i+1,j+1,thetaA, a0, (b0 - a0)/ 2) +  GaussIntegral(i+1,j+1,thetaA, (b0 - a0)/ 2, b0)\n",
    "        delta = (b0 - a0) / 3\n",
    "        count = 3\n",
    "        while abs(resultLast - resultPrev) > eps:\n",
    "            resultPrev = resultLast\n",
    "            resultLast = 0\n",
    "            for l in range(count):\n",
    "                resultLast += GaussIntegral(i+1,j+1,thetaA, a0 + l * delta, a0 + (l+1)*delta)\n",
    "            count += 1\n",
    "            delta = (b0-a0)/ count\n",
    "\n",
    "        A[i][j] = resultLast\n",
    "        # ATrue[i][j] = integrate.quad(thetaA, a,b, args=(i,j))\n",
    "        ATrue[i][j] = integrate.quad(thetaA, a, b, args=(i + 1, j + 1))[0]\n",
    "    \n",
    "    a0, b0 = a,b\n",
    "    resultPrev = GaussIntegral(i+1,0,thetaB, a0, b0)\n",
    "    resultLast = GaussIntegral(i+1,0,thetaB, a0, (b0 - a0)/ 2) +  GaussIntegral(i+1,0,thetaB, (b0 - a0)/ 2, b0)\n",
    "    delta = (b0 - a0) / 3\n",
    "    count = 3\n",
    "    while abs(resultLast - resultPrev) > eps:\n",
    "        resultPrev = resultLast\n",
    "        resultLast = 0\n",
    "        for l in range(count):\n",
    "            resultLast += GaussIntegral(i+1,0,thetaB, a0 + l * delta, a0 + (l+1)*delta)\n",
    "        count += 1\n",
    "        delta = (b0-a0)/ count\n",
    "    B[i] = resultLast\n",
    "    \n",
    "# print_array(A)\n",
    "# print_array(B)\n",
    "A = copy.copy(A)\n",
    "B = np.array(B)\n",
    "C = np.array([None, None, None, None])\n",
    "\n",
    "\n",
    "print_array(A)\n",
    "print(\"----\")\n",
    "print_array(ATrue)\n",
    "print(\"----\")\n",
    "\n",
    "print_vector(B)\n",
    "\n",
    "#решаем СЛАУ\n",
    "A = np.column_stack((A, B))\n",
    "A = decision_sle_direct_move(A)\n",
    "# print(\"Полученная трапецевидная (расширенная) матрица A:\")\n",
    "# print_array(A)\n",
    "\n",
    "B = A[:, 4]\n",
    "A = A[:, :4]\n",
    "# обратное ход\n",
    "C = decision_sle_reverse_move(A, C, B)\n",
    "print(\"\\nПолученное решение:\", end=\"\")\n",
    "print(\"\\n\\nX = \", C, \"\\n\\n\")\n",
    "\n",
    "\n",
    "\n",
    "\n",
    "\n",
    "#выводим значения в точках\n",
    "durX = a\n",
    "for i in range(6):\n",
    "    unx = phi0(durX) \n",
    "    for j in range(VarInt):\n",
    "        unx += C[j] * phiK(durX, j+1)\n",
    "    print(f\"u{i+1}(x) = {unx}\")\n",
    "    durX += dl"
   ]
  },
  {
   "cell_type": "code",
   "execution_count": null,
   "id": "685bda7b",
   "metadata": {
    "pycharm": {
     "name": "#%%\n"
    }
   },
   "outputs": [],
   "source": []
  }
 ],
 "metadata": {
  "kernelspec": {
   "display_name": "Python 3 (ipykernel)",
   "language": "python",
   "name": "python3"
  },
  "language_info": {
   "codemirror_mode": {
    "name": "ipython",
    "version": 3
   },
   "file_extension": ".py",
   "mimetype": "text/x-python",
   "name": "python",
   "nbconvert_exporter": "python",
   "pygments_lexer": "ipython3",
   "version": "3.10.0"
  }
 },
 "nbformat": 4,
 "nbformat_minor": 5
}